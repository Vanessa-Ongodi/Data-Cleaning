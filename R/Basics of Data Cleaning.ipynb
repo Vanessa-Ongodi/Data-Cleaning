{
 "cells": [
  {
   "cell_type": "markdown",
   "id": "8e79772c",
   "metadata": {},
   "source": [
    "# Basics of Data Cleaning"
   ]
  },
  {
   "cell_type": "markdown",
   "id": "a1074490",
   "metadata": {},
   "source": [
    "Dirty data can create problems in data analysis and has to be taken care of before proceeding to the next phase. This data consists of incorrect information. \n",
    "Sometimes in large datasets, completely removing dirty data from a source can be impossible so we aim to clean at least 80–90% of the data. To make good data predictions and create better visualizations with data, the raw data acquired must be cleaned because unclean data can impact data findings.\n",
    " Data cleaning is a part of the data preprocessing stage. The replace function is the most common way to replace wrong values during data cleaning.\n",
    "To do this we will create a dataframe with the different types of errors, identify them and fix them."
   ]
  },
  {
   "cell_type": "code",
   "execution_count": 1,
   "id": "2cfcf5d6",
   "metadata": {},
   "outputs": [
    {
     "name": "stderr",
     "output_type": "stream",
     "text": [
      "\n",
      "Attaching package: 'dplyr'\n",
      "\n",
      "\n",
      "The following objects are masked from 'package:stats':\n",
      "\n",
      "    filter, lag\n",
      "\n",
      "\n",
      "The following objects are masked from 'package:base':\n",
      "\n",
      "    intersect, setdiff, setequal, union\n",
      "\n",
      "\n"
     ]
    }
   ],
   "source": [
    "library(dplyr)"
   ]
  },
  {
   "cell_type": "markdown",
   "id": "d181fca9",
   "metadata": {},
   "source": [
    "## Create a dataframe of random people in 2022"
   ]
  },
  {
   "cell_type": "code",
   "execution_count": 2,
   "id": "a7b757bb",
   "metadata": {},
   "outputs": [
    {
     "data": {
      "text/html": [
       "<table class=\"dataframe\">\n",
       "<caption>A data.frame: 7 × 6</caption>\n",
       "<thead>\n",
       "\t<tr><th scope=col>Sex</th><th scope=col>Age</th><th scope=col>Name</th><th scope=col>Birth_Year</th><th scope=col>Interests</th><th scope=col>Favorite_Color</th></tr>\n",
       "\t<tr><th scope=col>&lt;chr&gt;</th><th scope=col>&lt;dbl&gt;</th><th scope=col>&lt;chr&gt;</th><th scope=col>&lt;dbl&gt;</th><th scope=col>&lt;chr&gt;</th><th scope=col>&lt;chr&gt;</th></tr>\n",
       "</thead>\n",
       "<tbody>\n",
       "\t<tr><td>F</td><td> 15</td><td>Jane </td><td>2007</td><td>Hiking  </td><td>Blue  </td></tr>\n",
       "\t<tr><td>F</td><td> 35</td><td>Ada  </td><td>1887</td><td>Travel  </td><td>Purple</td></tr>\n",
       "\t<tr><td>M</td><td> 23</td><td>Mark </td><td>1999</td><td>Sports  </td><td>Green </td></tr>\n",
       "\t<tr><td>M</td><td>320</td><td>John </td><td>1990</td><td>Books   </td><td>White </td></tr>\n",
       "\t<tr><td>M</td><td> 32</td><td>John </td><td>1990</td><td>Books   </td><td>White </td></tr>\n",
       "\t<tr><td>M</td><td> 19</td><td>Peter</td><td>2003</td><td>Swimming</td><td>NA    </td></tr>\n",
       "\t<tr><td>D</td><td> 28</td><td>Hope </td><td>1994</td><td>Black   </td><td>Movies</td></tr>\n",
       "</tbody>\n",
       "</table>\n"
      ],
      "text/latex": [
       "A data.frame: 7 × 6\n",
       "\\begin{tabular}{llllll}\n",
       " Sex & Age & Name & Birth\\_Year & Interests & Favorite\\_Color\\\\\n",
       " <chr> & <dbl> & <chr> & <dbl> & <chr> & <chr>\\\\\n",
       "\\hline\n",
       "\t F &  15 & Jane  & 2007 & Hiking   & Blue  \\\\\n",
       "\t F &  35 & Ada   & 1887 & Travel   & Purple\\\\\n",
       "\t M &  23 & Mark  & 1999 & Sports   & Green \\\\\n",
       "\t M & 320 & John  & 1990 & Books    & White \\\\\n",
       "\t M &  32 & John  & 1990 & Books    & White \\\\\n",
       "\t M &  19 & Peter & 2003 & Swimming & NA    \\\\\n",
       "\t D &  28 & Hope  & 1994 & Black    & Movies\\\\\n",
       "\\end{tabular}\n"
      ],
      "text/markdown": [
       "\n",
       "A data.frame: 7 × 6\n",
       "\n",
       "| Sex &lt;chr&gt; | Age &lt;dbl&gt; | Name &lt;chr&gt; | Birth_Year &lt;dbl&gt; | Interests &lt;chr&gt; | Favorite_Color &lt;chr&gt; |\n",
       "|---|---|---|---|---|---|\n",
       "| F |  15 | Jane  | 2007 | Hiking   | Blue   |\n",
       "| F |  35 | Ada   | 1887 | Travel   | Purple |\n",
       "| M |  23 | Mark  | 1999 | Sports   | Green  |\n",
       "| M | 320 | John  | 1990 | Books    | White  |\n",
       "| M |  32 | John  | 1990 | Books    | White  |\n",
       "| M |  19 | Peter | 2003 | Swimming | NA     |\n",
       "| D |  28 | Hope  | 1994 | Black    | Movies |\n",
       "\n"
      ],
      "text/plain": [
       "  Sex Age Name  Birth_Year Interests Favorite_Color\n",
       "1 F    15 Jane  2007       Hiking    Blue          \n",
       "2 F    35 Ada   1887       Travel    Purple        \n",
       "3 M    23 Mark  1999       Sports    Green         \n",
       "4 M   320 John  1990       Books     White         \n",
       "5 M    32 John  1990       Books     White         \n",
       "6 M    19 Peter 2003       Swimming  NA            \n",
       "7 D    28 Hope  1994       Black     Movies        "
      ]
     },
     "metadata": {},
     "output_type": "display_data"
    }
   ],
   "source": [
    "df <- data.frame (Sex  = c(\"F\", \"F\", \"M\", \"M\", \"M\", \"M\", \"D\"),\n",
    "                  Age = c(15, 35, 23, 320, 32, 19, 28),\n",
    "                  Name = c(\"Jane\", \"Ada\", \"Mark\", \"John\", \"John\", \"Peter\", \"Hope\"),\n",
    "                  Birth_Year = c(2007, 1887, 1999, 1990, 1990, 2003, 1994),\n",
    "                 Interests = c(\"Hiking\", \"Travel\", \"Sports\", \"Books\", \"Books\", \"Swimming\", \"Black\"),\n",
    "                 Favorite_Color = c(\"Blue\", \"Purple\", \"Green\", \"White\", \"White\", NA, \"Movies\"))\n",
    "df"
   ]
  },
  {
   "cell_type": "markdown",
   "id": "2268f5d2",
   "metadata": {},
   "source": [
    "### Bogus Data\n",
    "This is the type of data you encounter in a variable that is not genuine or not true especially when the values are expected to follow a particular range. This data can happen due to a typing error. We can correct this data by replacing it with the actual value we estimate it to be or if it is private data, we can ask the owner to confirm the error. In the dataset, the bogus data is in the age column which age is 320. This is obviously a typing error so we change the age to 32."
   ]
  },
  {
   "cell_type": "code",
   "execution_count": 3,
   "id": "405acba9",
   "metadata": {},
   "outputs": [
    {
     "data": {
      "text/html": [
       "<style>\n",
       ".list-inline {list-style: none; margin:0; padding: 0}\n",
       ".list-inline>li {display: inline-block}\n",
       ".list-inline>li:not(:last-child)::after {content: \"\\00b7\"; padding: 0 .5ex}\n",
       "</style>\n",
       "<ol class=list-inline><li>15</li><li>35</li><li>23</li><li>320</li><li>32</li><li>19</li><li>28</li></ol>\n"
      ],
      "text/latex": [
       "\\begin{enumerate*}\n",
       "\\item 15\n",
       "\\item 35\n",
       "\\item 23\n",
       "\\item 320\n",
       "\\item 32\n",
       "\\item 19\n",
       "\\item 28\n",
       "\\end{enumerate*}\n"
      ],
      "text/markdown": [
       "1. 15\n",
       "2. 35\n",
       "3. 23\n",
       "4. 320\n",
       "5. 32\n",
       "6. 19\n",
       "7. 28\n",
       "\n",
       "\n"
      ],
      "text/plain": [
       "[1]  15  35  23 320  32  19  28"
      ]
     },
     "metadata": {},
     "output_type": "display_data"
    }
   ],
   "source": [
    "unique(df$Age)"
   ]
  },
  {
   "cell_type": "code",
   "execution_count": 4,
   "id": "e1755d42",
   "metadata": {},
   "outputs": [],
   "source": [
    "df[\"Age\"][df[\"Age\"] == 320] <- 32"
   ]
  },
  {
   "cell_type": "code",
   "execution_count": 5,
   "id": "3e9ff63f",
   "metadata": {},
   "outputs": [
    {
     "data": {
      "text/html": [
       "<table class=\"dataframe\">\n",
       "<caption>A data.frame: 7 × 6</caption>\n",
       "<thead>\n",
       "\t<tr><th scope=col>Sex</th><th scope=col>Age</th><th scope=col>Name</th><th scope=col>Birth_Year</th><th scope=col>Interests</th><th scope=col>Favorite_Color</th></tr>\n",
       "\t<tr><th scope=col>&lt;chr&gt;</th><th scope=col>&lt;dbl&gt;</th><th scope=col>&lt;chr&gt;</th><th scope=col>&lt;dbl&gt;</th><th scope=col>&lt;chr&gt;</th><th scope=col>&lt;chr&gt;</th></tr>\n",
       "</thead>\n",
       "<tbody>\n",
       "\t<tr><td>F</td><td>15</td><td>Jane </td><td>2007</td><td>Hiking  </td><td>Blue  </td></tr>\n",
       "\t<tr><td>F</td><td>35</td><td>Ada  </td><td>1887</td><td>Travel  </td><td>Purple</td></tr>\n",
       "\t<tr><td>M</td><td>23</td><td>Mark </td><td>1999</td><td>Sports  </td><td>Green </td></tr>\n",
       "\t<tr><td>M</td><td>32</td><td>John </td><td>1990</td><td>Books   </td><td>White </td></tr>\n",
       "\t<tr><td>M</td><td>32</td><td>John </td><td>1990</td><td>Books   </td><td>White </td></tr>\n",
       "\t<tr><td>M</td><td>19</td><td>Peter</td><td>2003</td><td>Swimming</td><td>NA    </td></tr>\n",
       "\t<tr><td>D</td><td>28</td><td>Hope </td><td>1994</td><td>Black   </td><td>Movies</td></tr>\n",
       "</tbody>\n",
       "</table>\n"
      ],
      "text/latex": [
       "A data.frame: 7 × 6\n",
       "\\begin{tabular}{llllll}\n",
       " Sex & Age & Name & Birth\\_Year & Interests & Favorite\\_Color\\\\\n",
       " <chr> & <dbl> & <chr> & <dbl> & <chr> & <chr>\\\\\n",
       "\\hline\n",
       "\t F & 15 & Jane  & 2007 & Hiking   & Blue  \\\\\n",
       "\t F & 35 & Ada   & 1887 & Travel   & Purple\\\\\n",
       "\t M & 23 & Mark  & 1999 & Sports   & Green \\\\\n",
       "\t M & 32 & John  & 1990 & Books    & White \\\\\n",
       "\t M & 32 & John  & 1990 & Books    & White \\\\\n",
       "\t M & 19 & Peter & 2003 & Swimming & NA    \\\\\n",
       "\t D & 28 & Hope  & 1994 & Black    & Movies\\\\\n",
       "\\end{tabular}\n"
      ],
      "text/markdown": [
       "\n",
       "A data.frame: 7 × 6\n",
       "\n",
       "| Sex &lt;chr&gt; | Age &lt;dbl&gt; | Name &lt;chr&gt; | Birth_Year &lt;dbl&gt; | Interests &lt;chr&gt; | Favorite_Color &lt;chr&gt; |\n",
       "|---|---|---|---|---|---|\n",
       "| F | 15 | Jane  | 2007 | Hiking   | Blue   |\n",
       "| F | 35 | Ada   | 1887 | Travel   | Purple |\n",
       "| M | 23 | Mark  | 1999 | Sports   | Green  |\n",
       "| M | 32 | John  | 1990 | Books    | White  |\n",
       "| M | 32 | John  | 1990 | Books    | White  |\n",
       "| M | 19 | Peter | 2003 | Swimming | NA     |\n",
       "| D | 28 | Hope  | 1994 | Black    | Movies |\n",
       "\n"
      ],
      "text/plain": [
       "  Sex Age Name  Birth_Year Interests Favorite_Color\n",
       "1 F   15  Jane  2007       Hiking    Blue          \n",
       "2 F   35  Ada   1887       Travel    Purple        \n",
       "3 M   23  Mark  1999       Sports    Green         \n",
       "4 M   32  John  1990       Books     White         \n",
       "5 M   32  John  1990       Books     White         \n",
       "6 M   19  Peter 2003       Swimming  NA            \n",
       "7 D   28  Hope  1994       Black     Movies        "
      ]
     },
     "metadata": {},
     "output_type": "display_data"
    }
   ],
   "source": [
    "df"
   ]
  },
  {
   "cell_type": "markdown",
   "id": "87bf249c",
   "metadata": {},
   "source": [
    "### Duplicate Data\n",
    "\n",
    "As the name implies, this data is encountered when data is entered twice. This can be solved by checking for duplicates in the dataframe and removing the duplicate values. In the dataframe, we see that the entry for John is duplicated so we remove one entry."
   ]
  },
  {
   "cell_type": "code",
   "execution_count": 6,
   "id": "e5daf1e0",
   "metadata": {},
   "outputs": [
    {
     "data": {
      "text/html": [
       "<style>\n",
       ".list-inline {list-style: none; margin:0; padding: 0}\n",
       ".list-inline>li {display: inline-block}\n",
       ".list-inline>li:not(:last-child)::after {content: \"\\00b7\"; padding: 0 .5ex}\n",
       "</style>\n",
       "<ol class=list-inline><li>FALSE</li><li>FALSE</li><li>FALSE</li><li>FALSE</li><li>TRUE</li><li>FALSE</li><li>FALSE</li></ol>\n"
      ],
      "text/latex": [
       "\\begin{enumerate*}\n",
       "\\item FALSE\n",
       "\\item FALSE\n",
       "\\item FALSE\n",
       "\\item FALSE\n",
       "\\item TRUE\n",
       "\\item FALSE\n",
       "\\item FALSE\n",
       "\\end{enumerate*}\n"
      ],
      "text/markdown": [
       "1. FALSE\n",
       "2. FALSE\n",
       "3. FALSE\n",
       "4. FALSE\n",
       "5. TRUE\n",
       "6. FALSE\n",
       "7. FALSE\n",
       "\n",
       "\n"
      ],
      "text/plain": [
       "[1] FALSE FALSE FALSE FALSE  TRUE FALSE FALSE"
      ]
     },
     "metadata": {},
     "output_type": "display_data"
    }
   ],
   "source": [
    "duplicated(df)"
   ]
  },
  {
   "cell_type": "code",
   "execution_count": 7,
   "id": "c8edaac0",
   "metadata": {},
   "outputs": [
    {
     "data": {
      "text/html": [
       "<table class=\"dataframe\">\n",
       "<caption>A data.frame: 6 × 6</caption>\n",
       "<thead>\n",
       "\t<tr><th></th><th scope=col>Sex</th><th scope=col>Age</th><th scope=col>Name</th><th scope=col>Birth_Year</th><th scope=col>Interests</th><th scope=col>Favorite_Color</th></tr>\n",
       "\t<tr><th></th><th scope=col>&lt;chr&gt;</th><th scope=col>&lt;dbl&gt;</th><th scope=col>&lt;chr&gt;</th><th scope=col>&lt;dbl&gt;</th><th scope=col>&lt;chr&gt;</th><th scope=col>&lt;chr&gt;</th></tr>\n",
       "</thead>\n",
       "<tbody>\n",
       "\t<tr><th scope=row>1</th><td>F</td><td>15</td><td>Jane </td><td>2007</td><td>Hiking  </td><td>Blue  </td></tr>\n",
       "\t<tr><th scope=row>2</th><td>F</td><td>35</td><td>Ada  </td><td>1887</td><td>Travel  </td><td>Purple</td></tr>\n",
       "\t<tr><th scope=row>3</th><td>M</td><td>23</td><td>Mark </td><td>1999</td><td>Sports  </td><td>Green </td></tr>\n",
       "\t<tr><th scope=row>4</th><td>M</td><td>32</td><td>John </td><td>1990</td><td>Books   </td><td>White </td></tr>\n",
       "\t<tr><th scope=row>6</th><td>M</td><td>19</td><td>Peter</td><td>2003</td><td>Swimming</td><td>NA    </td></tr>\n",
       "\t<tr><th scope=row>7</th><td>D</td><td>28</td><td>Hope </td><td>1994</td><td>Black   </td><td>Movies</td></tr>\n",
       "</tbody>\n",
       "</table>\n"
      ],
      "text/latex": [
       "A data.frame: 6 × 6\n",
       "\\begin{tabular}{r|llllll}\n",
       "  & Sex & Age & Name & Birth\\_Year & Interests & Favorite\\_Color\\\\\n",
       "  & <chr> & <dbl> & <chr> & <dbl> & <chr> & <chr>\\\\\n",
       "\\hline\n",
       "\t1 & F & 15 & Jane  & 2007 & Hiking   & Blue  \\\\\n",
       "\t2 & F & 35 & Ada   & 1887 & Travel   & Purple\\\\\n",
       "\t3 & M & 23 & Mark  & 1999 & Sports   & Green \\\\\n",
       "\t4 & M & 32 & John  & 1990 & Books    & White \\\\\n",
       "\t6 & M & 19 & Peter & 2003 & Swimming & NA    \\\\\n",
       "\t7 & D & 28 & Hope  & 1994 & Black    & Movies\\\\\n",
       "\\end{tabular}\n"
      ],
      "text/markdown": [
       "\n",
       "A data.frame: 6 × 6\n",
       "\n",
       "| <!--/--> | Sex &lt;chr&gt; | Age &lt;dbl&gt; | Name &lt;chr&gt; | Birth_Year &lt;dbl&gt; | Interests &lt;chr&gt; | Favorite_Color &lt;chr&gt; |\n",
       "|---|---|---|---|---|---|---|\n",
       "| 1 | F | 15 | Jane  | 2007 | Hiking   | Blue   |\n",
       "| 2 | F | 35 | Ada   | 1887 | Travel   | Purple |\n",
       "| 3 | M | 23 | Mark  | 1999 | Sports   | Green  |\n",
       "| 4 | M | 32 | John  | 1990 | Books    | White  |\n",
       "| 6 | M | 19 | Peter | 2003 | Swimming | NA     |\n",
       "| 7 | D | 28 | Hope  | 1994 | Black    | Movies |\n",
       "\n"
      ],
      "text/plain": [
       "  Sex Age Name  Birth_Year Interests Favorite_Color\n",
       "1 F   15  Jane  2007       Hiking    Blue          \n",
       "2 F   35  Ada   1887       Travel    Purple        \n",
       "3 M   23  Mark  1999       Sports    Green         \n",
       "4 M   32  John  1990       Books     White         \n",
       "6 M   19  Peter 2003       Swimming  NA            \n",
       "7 D   28  Hope  1994       Black     Movies        "
      ]
     },
     "metadata": {},
     "output_type": "display_data"
    }
   ],
   "source": [
    "df[!duplicated(df), ]"
   ]
  },
  {
   "cell_type": "markdown",
   "id": "ea1fc915",
   "metadata": {},
   "source": [
    "### Outdated Data\n",
    "\n",
    "This type of data happens when we expect data from a particular period and we find values that are below or above the particular periods. We can check if the data was caused by a typing error by estimating if it falls in the range. But if the value is beyond the range, we can remove it from the dataset. In the dataframe, we see a birth year of 1887 and this data was generated from people in 2022. We calculate the actual year from the age and add the correct value."
   ]
  },
  {
   "cell_type": "code",
   "execution_count": 8,
   "id": "cb356502",
   "metadata": {},
   "outputs": [
    {
     "data": {
      "text/html": [
       "<style>\n",
       ".list-inline {list-style: none; margin:0; padding: 0}\n",
       ".list-inline>li {display: inline-block}\n",
       ".list-inline>li:not(:last-child)::after {content: \"\\00b7\"; padding: 0 .5ex}\n",
       "</style>\n",
       "<ol class=list-inline><li>2007</li><li>1887</li><li>1999</li><li>1990</li><li>2003</li><li>1994</li></ol>\n"
      ],
      "text/latex": [
       "\\begin{enumerate*}\n",
       "\\item 2007\n",
       "\\item 1887\n",
       "\\item 1999\n",
       "\\item 1990\n",
       "\\item 2003\n",
       "\\item 1994\n",
       "\\end{enumerate*}\n"
      ],
      "text/markdown": [
       "1. 2007\n",
       "2. 1887\n",
       "3. 1999\n",
       "4. 1990\n",
       "5. 2003\n",
       "6. 1994\n",
       "\n",
       "\n"
      ],
      "text/plain": [
       "[1] 2007 1887 1999 1990 2003 1994"
      ]
     },
     "metadata": {},
     "output_type": "display_data"
    }
   ],
   "source": [
    "unique(df$Birth_Year)"
   ]
  },
  {
   "cell_type": "code",
   "execution_count": 9,
   "id": "661993c1",
   "metadata": {},
   "outputs": [],
   "source": [
    "df[\"Birth_Year\"][df[\"Birth_Year\"] == 1887] <- 1987"
   ]
  },
  {
   "cell_type": "code",
   "execution_count": 10,
   "id": "bdb552aa",
   "metadata": {},
   "outputs": [
    {
     "data": {
      "text/html": [
       "<table class=\"dataframe\">\n",
       "<caption>A data.frame: 7 × 6</caption>\n",
       "<thead>\n",
       "\t<tr><th scope=col>Sex</th><th scope=col>Age</th><th scope=col>Name</th><th scope=col>Birth_Year</th><th scope=col>Interests</th><th scope=col>Favorite_Color</th></tr>\n",
       "\t<tr><th scope=col>&lt;chr&gt;</th><th scope=col>&lt;dbl&gt;</th><th scope=col>&lt;chr&gt;</th><th scope=col>&lt;dbl&gt;</th><th scope=col>&lt;chr&gt;</th><th scope=col>&lt;chr&gt;</th></tr>\n",
       "</thead>\n",
       "<tbody>\n",
       "\t<tr><td>F</td><td>15</td><td>Jane </td><td>2007</td><td>Hiking  </td><td>Blue  </td></tr>\n",
       "\t<tr><td>F</td><td>35</td><td>Ada  </td><td>1987</td><td>Travel  </td><td>Purple</td></tr>\n",
       "\t<tr><td>M</td><td>23</td><td>Mark </td><td>1999</td><td>Sports  </td><td>Green </td></tr>\n",
       "\t<tr><td>M</td><td>32</td><td>John </td><td>1990</td><td>Books   </td><td>White </td></tr>\n",
       "\t<tr><td>M</td><td>32</td><td>John </td><td>1990</td><td>Books   </td><td>White </td></tr>\n",
       "\t<tr><td>M</td><td>19</td><td>Peter</td><td>2003</td><td>Swimming</td><td>NA    </td></tr>\n",
       "\t<tr><td>D</td><td>28</td><td>Hope </td><td>1994</td><td>Black   </td><td>Movies</td></tr>\n",
       "</tbody>\n",
       "</table>\n"
      ],
      "text/latex": [
       "A data.frame: 7 × 6\n",
       "\\begin{tabular}{llllll}\n",
       " Sex & Age & Name & Birth\\_Year & Interests & Favorite\\_Color\\\\\n",
       " <chr> & <dbl> & <chr> & <dbl> & <chr> & <chr>\\\\\n",
       "\\hline\n",
       "\t F & 15 & Jane  & 2007 & Hiking   & Blue  \\\\\n",
       "\t F & 35 & Ada   & 1987 & Travel   & Purple\\\\\n",
       "\t M & 23 & Mark  & 1999 & Sports   & Green \\\\\n",
       "\t M & 32 & John  & 1990 & Books    & White \\\\\n",
       "\t M & 32 & John  & 1990 & Books    & White \\\\\n",
       "\t M & 19 & Peter & 2003 & Swimming & NA    \\\\\n",
       "\t D & 28 & Hope  & 1994 & Black    & Movies\\\\\n",
       "\\end{tabular}\n"
      ],
      "text/markdown": [
       "\n",
       "A data.frame: 7 × 6\n",
       "\n",
       "| Sex &lt;chr&gt; | Age &lt;dbl&gt; | Name &lt;chr&gt; | Birth_Year &lt;dbl&gt; | Interests &lt;chr&gt; | Favorite_Color &lt;chr&gt; |\n",
       "|---|---|---|---|---|---|\n",
       "| F | 15 | Jane  | 2007 | Hiking   | Blue   |\n",
       "| F | 35 | Ada   | 1987 | Travel   | Purple |\n",
       "| M | 23 | Mark  | 1999 | Sports   | Green  |\n",
       "| M | 32 | John  | 1990 | Books    | White  |\n",
       "| M | 32 | John  | 1990 | Books    | White  |\n",
       "| M | 19 | Peter | 2003 | Swimming | NA     |\n",
       "| D | 28 | Hope  | 1994 | Black    | Movies |\n",
       "\n"
      ],
      "text/plain": [
       "  Sex Age Name  Birth_Year Interests Favorite_Color\n",
       "1 F   15  Jane  2007       Hiking    Blue          \n",
       "2 F   35  Ada   1987       Travel    Purple        \n",
       "3 M   23  Mark  1999       Sports    Green         \n",
       "4 M   32  John  1990       Books     White         \n",
       "5 M   32  John  1990       Books     White         \n",
       "6 M   19  Peter 2003       Swimming  NA            \n",
       "7 D   28  Hope  1994       Black     Movies        "
      ]
     },
     "metadata": {},
     "output_type": "display_data"
    }
   ],
   "source": [
    "df"
   ]
  },
  {
   "cell_type": "markdown",
   "id": "32e63659",
   "metadata": {},
   "source": [
    "### Incorrect Data\n",
    "\n",
    "Incorrect data is data entered in the wrong column. For example, when numerical data is entered in a text column or vice versa or when a value that should be in another column is entered in a different column. In the dataframe, black is entered in the interests column and movies is entered in the favorite color column so we replace these values."
   ]
  },
  {
   "cell_type": "code",
   "execution_count": 11,
   "id": "bb230ce7",
   "metadata": {},
   "outputs": [
    {
     "data": {
      "text/html": [
       "<table class=\"dataframe\">\n",
       "<caption>A data.frame: 7 × 6</caption>\n",
       "<thead>\n",
       "\t<tr><th scope=col>Sex</th><th scope=col>Age</th><th scope=col>Name</th><th scope=col>Birth_Year</th><th scope=col>Interests</th><th scope=col>Favorite_Color</th></tr>\n",
       "\t<tr><th scope=col>&lt;chr&gt;</th><th scope=col>&lt;dbl&gt;</th><th scope=col>&lt;chr&gt;</th><th scope=col>&lt;dbl&gt;</th><th scope=col>&lt;chr&gt;</th><th scope=col>&lt;chr&gt;</th></tr>\n",
       "</thead>\n",
       "<tbody>\n",
       "\t<tr><td>F</td><td>15</td><td>Jane </td><td>2007</td><td>Hiking  </td><td>Blue  </td></tr>\n",
       "\t<tr><td>F</td><td>35</td><td>Ada  </td><td>1987</td><td>Travel  </td><td>Purple</td></tr>\n",
       "\t<tr><td>M</td><td>23</td><td>Mark </td><td>1999</td><td>Sports  </td><td>Green </td></tr>\n",
       "\t<tr><td>M</td><td>32</td><td>John </td><td>1990</td><td>Books   </td><td>White </td></tr>\n",
       "\t<tr><td>M</td><td>32</td><td>John </td><td>1990</td><td>Books   </td><td>White </td></tr>\n",
       "\t<tr><td>M</td><td>19</td><td>Peter</td><td>2003</td><td>Swimming</td><td>NA    </td></tr>\n",
       "\t<tr><td>D</td><td>28</td><td>Hope </td><td>1994</td><td>Black   </td><td>Movies</td></tr>\n",
       "</tbody>\n",
       "</table>\n"
      ],
      "text/latex": [
       "A data.frame: 7 × 6\n",
       "\\begin{tabular}{llllll}\n",
       " Sex & Age & Name & Birth\\_Year & Interests & Favorite\\_Color\\\\\n",
       " <chr> & <dbl> & <chr> & <dbl> & <chr> & <chr>\\\\\n",
       "\\hline\n",
       "\t F & 15 & Jane  & 2007 & Hiking   & Blue  \\\\\n",
       "\t F & 35 & Ada   & 1987 & Travel   & Purple\\\\\n",
       "\t M & 23 & Mark  & 1999 & Sports   & Green \\\\\n",
       "\t M & 32 & John  & 1990 & Books    & White \\\\\n",
       "\t M & 32 & John  & 1990 & Books    & White \\\\\n",
       "\t M & 19 & Peter & 2003 & Swimming & NA    \\\\\n",
       "\t D & 28 & Hope  & 1994 & Black    & Movies\\\\\n",
       "\\end{tabular}\n"
      ],
      "text/markdown": [
       "\n",
       "A data.frame: 7 × 6\n",
       "\n",
       "| Sex &lt;chr&gt; | Age &lt;dbl&gt; | Name &lt;chr&gt; | Birth_Year &lt;dbl&gt; | Interests &lt;chr&gt; | Favorite_Color &lt;chr&gt; |\n",
       "|---|---|---|---|---|---|\n",
       "| F | 15 | Jane  | 2007 | Hiking   | Blue   |\n",
       "| F | 35 | Ada   | 1987 | Travel   | Purple |\n",
       "| M | 23 | Mark  | 1999 | Sports   | Green  |\n",
       "| M | 32 | John  | 1990 | Books    | White  |\n",
       "| M | 32 | John  | 1990 | Books    | White  |\n",
       "| M | 19 | Peter | 2003 | Swimming | NA     |\n",
       "| D | 28 | Hope  | 1994 | Black    | Movies |\n",
       "\n"
      ],
      "text/plain": [
       "  Sex Age Name  Birth_Year Interests Favorite_Color\n",
       "1 F   15  Jane  2007       Hiking    Blue          \n",
       "2 F   35  Ada   1987       Travel    Purple        \n",
       "3 M   23  Mark  1999       Sports    Green         \n",
       "4 M   32  John  1990       Books     White         \n",
       "5 M   32  John  1990       Books     White         \n",
       "6 M   19  Peter 2003       Swimming  NA            \n",
       "7 D   28  Hope  1994       Black     Movies        "
      ]
     },
     "metadata": {},
     "output_type": "display_data"
    }
   ],
   "source": [
    "df"
   ]
  },
  {
   "cell_type": "code",
   "execution_count": 12,
   "id": "7f8216ae",
   "metadata": {},
   "outputs": [],
   "source": [
    "df[\"Interests\"][df[\"Interests\"] == \"Black\"] <- \"Movies\"\n",
    "df[\"Favorite_Color\"][df[\"Favorite_Color\"] == \"Movies\"] <- \"Black\""
   ]
  },
  {
   "cell_type": "code",
   "execution_count": 13,
   "id": "feef8c96",
   "metadata": {},
   "outputs": [
    {
     "data": {
      "text/html": [
       "<table class=\"dataframe\">\n",
       "<caption>A data.frame: 7 × 6</caption>\n",
       "<thead>\n",
       "\t<tr><th scope=col>Sex</th><th scope=col>Age</th><th scope=col>Name</th><th scope=col>Birth_Year</th><th scope=col>Interests</th><th scope=col>Favorite_Color</th></tr>\n",
       "\t<tr><th scope=col>&lt;chr&gt;</th><th scope=col>&lt;dbl&gt;</th><th scope=col>&lt;chr&gt;</th><th scope=col>&lt;dbl&gt;</th><th scope=col>&lt;chr&gt;</th><th scope=col>&lt;chr&gt;</th></tr>\n",
       "</thead>\n",
       "<tbody>\n",
       "\t<tr><td>F</td><td>15</td><td>Jane </td><td>2007</td><td>Hiking  </td><td>Blue  </td></tr>\n",
       "\t<tr><td>F</td><td>35</td><td>Ada  </td><td>1987</td><td>Travel  </td><td>Purple</td></tr>\n",
       "\t<tr><td>M</td><td>23</td><td>Mark </td><td>1999</td><td>Sports  </td><td>Green </td></tr>\n",
       "\t<tr><td>M</td><td>32</td><td>John </td><td>1990</td><td>Books   </td><td>White </td></tr>\n",
       "\t<tr><td>M</td><td>32</td><td>John </td><td>1990</td><td>Books   </td><td>White </td></tr>\n",
       "\t<tr><td>M</td><td>19</td><td>Peter</td><td>2003</td><td>Swimming</td><td>NA    </td></tr>\n",
       "\t<tr><td>D</td><td>28</td><td>Hope </td><td>1994</td><td>Movies  </td><td>Black </td></tr>\n",
       "</tbody>\n",
       "</table>\n"
      ],
      "text/latex": [
       "A data.frame: 7 × 6\n",
       "\\begin{tabular}{llllll}\n",
       " Sex & Age & Name & Birth\\_Year & Interests & Favorite\\_Color\\\\\n",
       " <chr> & <dbl> & <chr> & <dbl> & <chr> & <chr>\\\\\n",
       "\\hline\n",
       "\t F & 15 & Jane  & 2007 & Hiking   & Blue  \\\\\n",
       "\t F & 35 & Ada   & 1987 & Travel   & Purple\\\\\n",
       "\t M & 23 & Mark  & 1999 & Sports   & Green \\\\\n",
       "\t M & 32 & John  & 1990 & Books    & White \\\\\n",
       "\t M & 32 & John  & 1990 & Books    & White \\\\\n",
       "\t M & 19 & Peter & 2003 & Swimming & NA    \\\\\n",
       "\t D & 28 & Hope  & 1994 & Movies   & Black \\\\\n",
       "\\end{tabular}\n"
      ],
      "text/markdown": [
       "\n",
       "A data.frame: 7 × 6\n",
       "\n",
       "| Sex &lt;chr&gt; | Age &lt;dbl&gt; | Name &lt;chr&gt; | Birth_Year &lt;dbl&gt; | Interests &lt;chr&gt; | Favorite_Color &lt;chr&gt; |\n",
       "|---|---|---|---|---|---|\n",
       "| F | 15 | Jane  | 2007 | Hiking   | Blue   |\n",
       "| F | 35 | Ada   | 1987 | Travel   | Purple |\n",
       "| M | 23 | Mark  | 1999 | Sports   | Green  |\n",
       "| M | 32 | John  | 1990 | Books    | White  |\n",
       "| M | 32 | John  | 1990 | Books    | White  |\n",
       "| M | 19 | Peter | 2003 | Swimming | NA     |\n",
       "| D | 28 | Hope  | 1994 | Movies   | Black  |\n",
       "\n"
      ],
      "text/plain": [
       "  Sex Age Name  Birth_Year Interests Favorite_Color\n",
       "1 F   15  Jane  2007       Hiking    Blue          \n",
       "2 F   35  Ada   1987       Travel    Purple        \n",
       "3 M   23  Mark  1999       Sports    Green         \n",
       "4 M   32  John  1990       Books     White         \n",
       "5 M   32  John  1990       Books     White         \n",
       "6 M   19  Peter 2003       Swimming  NA            \n",
       "7 D   28  Hope  1994       Movies    Black         "
      ]
     },
     "metadata": {},
     "output_type": "display_data"
    }
   ],
   "source": [
    "df"
   ]
  },
  {
   "cell_type": "markdown",
   "id": "cc8b4be0",
   "metadata": {},
   "source": [
    "### Inconsistent Data\n",
    "\n",
    "This data is encountered when the data entered assumes the shape of a data but is not the same. This data is usually caused by a typing error. In the sex column, we see there is D entered and the alphabet D is close to F on the keyboard so we change this to F."
   ]
  },
  {
   "cell_type": "code",
   "execution_count": 14,
   "id": "2361931f",
   "metadata": {},
   "outputs": [
    {
     "data": {
      "text/html": [
       "<style>\n",
       ".list-inline {list-style: none; margin:0; padding: 0}\n",
       ".list-inline>li {display: inline-block}\n",
       ".list-inline>li:not(:last-child)::after {content: \"\\00b7\"; padding: 0 .5ex}\n",
       "</style>\n",
       "<ol class=list-inline><li>'F'</li><li>'M'</li><li>'D'</li></ol>\n"
      ],
      "text/latex": [
       "\\begin{enumerate*}\n",
       "\\item 'F'\n",
       "\\item 'M'\n",
       "\\item 'D'\n",
       "\\end{enumerate*}\n"
      ],
      "text/markdown": [
       "1. 'F'\n",
       "2. 'M'\n",
       "3. 'D'\n",
       "\n",
       "\n"
      ],
      "text/plain": [
       "[1] \"F\" \"M\" \"D\""
      ]
     },
     "metadata": {},
     "output_type": "display_data"
    }
   ],
   "source": [
    "unique(df$Sex)"
   ]
  },
  {
   "cell_type": "code",
   "execution_count": 15,
   "id": "c197eef5",
   "metadata": {},
   "outputs": [],
   "source": [
    "df[\"Sex\"][df[\"Sex\"] == \"D\"] <- \"F\""
   ]
  },
  {
   "cell_type": "code",
   "execution_count": 16,
   "id": "46fbdea1",
   "metadata": {},
   "outputs": [
    {
     "data": {
      "text/html": [
       "<table class=\"dataframe\">\n",
       "<caption>A data.frame: 7 × 6</caption>\n",
       "<thead>\n",
       "\t<tr><th scope=col>Sex</th><th scope=col>Age</th><th scope=col>Name</th><th scope=col>Birth_Year</th><th scope=col>Interests</th><th scope=col>Favorite_Color</th></tr>\n",
       "\t<tr><th scope=col>&lt;chr&gt;</th><th scope=col>&lt;dbl&gt;</th><th scope=col>&lt;chr&gt;</th><th scope=col>&lt;dbl&gt;</th><th scope=col>&lt;chr&gt;</th><th scope=col>&lt;chr&gt;</th></tr>\n",
       "</thead>\n",
       "<tbody>\n",
       "\t<tr><td>F</td><td>15</td><td>Jane </td><td>2007</td><td>Hiking  </td><td>Blue  </td></tr>\n",
       "\t<tr><td>F</td><td>35</td><td>Ada  </td><td>1987</td><td>Travel  </td><td>Purple</td></tr>\n",
       "\t<tr><td>M</td><td>23</td><td>Mark </td><td>1999</td><td>Sports  </td><td>Green </td></tr>\n",
       "\t<tr><td>M</td><td>32</td><td>John </td><td>1990</td><td>Books   </td><td>White </td></tr>\n",
       "\t<tr><td>M</td><td>32</td><td>John </td><td>1990</td><td>Books   </td><td>White </td></tr>\n",
       "\t<tr><td>M</td><td>19</td><td>Peter</td><td>2003</td><td>Swimming</td><td>NA    </td></tr>\n",
       "\t<tr><td>F</td><td>28</td><td>Hope </td><td>1994</td><td>Movies  </td><td>Black </td></tr>\n",
       "</tbody>\n",
       "</table>\n"
      ],
      "text/latex": [
       "A data.frame: 7 × 6\n",
       "\\begin{tabular}{llllll}\n",
       " Sex & Age & Name & Birth\\_Year & Interests & Favorite\\_Color\\\\\n",
       " <chr> & <dbl> & <chr> & <dbl> & <chr> & <chr>\\\\\n",
       "\\hline\n",
       "\t F & 15 & Jane  & 2007 & Hiking   & Blue  \\\\\n",
       "\t F & 35 & Ada   & 1987 & Travel   & Purple\\\\\n",
       "\t M & 23 & Mark  & 1999 & Sports   & Green \\\\\n",
       "\t M & 32 & John  & 1990 & Books    & White \\\\\n",
       "\t M & 32 & John  & 1990 & Books    & White \\\\\n",
       "\t M & 19 & Peter & 2003 & Swimming & NA    \\\\\n",
       "\t F & 28 & Hope  & 1994 & Movies   & Black \\\\\n",
       "\\end{tabular}\n"
      ],
      "text/markdown": [
       "\n",
       "A data.frame: 7 × 6\n",
       "\n",
       "| Sex &lt;chr&gt; | Age &lt;dbl&gt; | Name &lt;chr&gt; | Birth_Year &lt;dbl&gt; | Interests &lt;chr&gt; | Favorite_Color &lt;chr&gt; |\n",
       "|---|---|---|---|---|---|\n",
       "| F | 15 | Jane  | 2007 | Hiking   | Blue   |\n",
       "| F | 35 | Ada   | 1987 | Travel   | Purple |\n",
       "| M | 23 | Mark  | 1999 | Sports   | Green  |\n",
       "| M | 32 | John  | 1990 | Books    | White  |\n",
       "| M | 32 | John  | 1990 | Books    | White  |\n",
       "| M | 19 | Peter | 2003 | Swimming | NA     |\n",
       "| F | 28 | Hope  | 1994 | Movies   | Black  |\n",
       "\n"
      ],
      "text/plain": [
       "  Sex Age Name  Birth_Year Interests Favorite_Color\n",
       "1 F   15  Jane  2007       Hiking    Blue          \n",
       "2 F   35  Ada   1987       Travel    Purple        \n",
       "3 M   23  Mark  1999       Sports    Green         \n",
       "4 M   32  John  1990       Books     White         \n",
       "5 M   32  John  1990       Books     White         \n",
       "6 M   19  Peter 2003       Swimming  NA            \n",
       "7 F   28  Hope  1994       Movies    Black         "
      ]
     },
     "metadata": {},
     "output_type": "display_data"
    }
   ],
   "source": [
    "df"
   ]
  },
  {
   "cell_type": "markdown",
   "id": "f5cfbcf0",
   "metadata": {},
   "source": [
    "### Missing Data\n",
    "\n",
    "This is a type of data that is returned as a null value. We can find the null values in the dataframe, remove them or replace them with an arbitrary value. There is a missing value in the favorite color column so we can change this to empty which indicates that it wasn't filled."
   ]
  },
  {
   "cell_type": "code",
   "execution_count": 17,
   "id": "1f6f3b1e",
   "metadata": {},
   "outputs": [
    {
     "data": {
      "text/html": [
       "<style>\n",
       ".list-inline {list-style: none; margin:0; padding: 0}\n",
       ".list-inline>li {display: inline-block}\n",
       ".list-inline>li:not(:last-child)::after {content: \"\\00b7\"; padding: 0 .5ex}\n",
       "</style>\n",
       "<ol class=list-inline><li>FALSE</li><li>FALSE</li><li>FALSE</li><li>FALSE</li><li>FALSE</li><li>TRUE</li><li>FALSE</li></ol>\n"
      ],
      "text/latex": [
       "\\begin{enumerate*}\n",
       "\\item FALSE\n",
       "\\item FALSE\n",
       "\\item FALSE\n",
       "\\item FALSE\n",
       "\\item FALSE\n",
       "\\item TRUE\n",
       "\\item FALSE\n",
       "\\end{enumerate*}\n"
      ],
      "text/markdown": [
       "1. FALSE\n",
       "2. FALSE\n",
       "3. FALSE\n",
       "4. FALSE\n",
       "5. FALSE\n",
       "6. TRUE\n",
       "7. FALSE\n",
       "\n",
       "\n"
      ],
      "text/plain": [
       "[1] FALSE FALSE FALSE FALSE FALSE  TRUE FALSE"
      ]
     },
     "metadata": {},
     "output_type": "display_data"
    }
   ],
   "source": [
    "is.na(df$Favorite_Color)"
   ]
  },
  {
   "cell_type": "code",
   "execution_count": 18,
   "id": "5b2b1be6",
   "metadata": {},
   "outputs": [
    {
     "data": {
      "text/html": [
       "<table class=\"dataframe\">\n",
       "<caption>A data.frame: 7 × 6</caption>\n",
       "<thead>\n",
       "\t<tr><th scope=col>Sex</th><th scope=col>Age</th><th scope=col>Name</th><th scope=col>Birth_Year</th><th scope=col>Interests</th><th scope=col>Favorite_Color</th></tr>\n",
       "\t<tr><th scope=col>&lt;chr&gt;</th><th scope=col>&lt;dbl&gt;</th><th scope=col>&lt;chr&gt;</th><th scope=col>&lt;dbl&gt;</th><th scope=col>&lt;chr&gt;</th><th scope=col>&lt;chr&gt;</th></tr>\n",
       "</thead>\n",
       "<tbody>\n",
       "\t<tr><td>F</td><td>15</td><td>Jane </td><td>2007</td><td>Hiking  </td><td>Blue  </td></tr>\n",
       "\t<tr><td>F</td><td>35</td><td>Ada  </td><td>1987</td><td>Travel  </td><td>Purple</td></tr>\n",
       "\t<tr><td>M</td><td>23</td><td>Mark </td><td>1999</td><td>Sports  </td><td>Green </td></tr>\n",
       "\t<tr><td>M</td><td>32</td><td>John </td><td>1990</td><td>Books   </td><td>White </td></tr>\n",
       "\t<tr><td>M</td><td>32</td><td>John </td><td>1990</td><td>Books   </td><td>White </td></tr>\n",
       "\t<tr><td>M</td><td>19</td><td>Peter</td><td>2003</td><td>Swimming</td><td>Empty </td></tr>\n",
       "\t<tr><td>F</td><td>28</td><td>Hope </td><td>1994</td><td>Movies  </td><td>Black </td></tr>\n",
       "</tbody>\n",
       "</table>\n"
      ],
      "text/latex": [
       "A data.frame: 7 × 6\n",
       "\\begin{tabular}{llllll}\n",
       " Sex & Age & Name & Birth\\_Year & Interests & Favorite\\_Color\\\\\n",
       " <chr> & <dbl> & <chr> & <dbl> & <chr> & <chr>\\\\\n",
       "\\hline\n",
       "\t F & 15 & Jane  & 2007 & Hiking   & Blue  \\\\\n",
       "\t F & 35 & Ada   & 1987 & Travel   & Purple\\\\\n",
       "\t M & 23 & Mark  & 1999 & Sports   & Green \\\\\n",
       "\t M & 32 & John  & 1990 & Books    & White \\\\\n",
       "\t M & 32 & John  & 1990 & Books    & White \\\\\n",
       "\t M & 19 & Peter & 2003 & Swimming & Empty \\\\\n",
       "\t F & 28 & Hope  & 1994 & Movies   & Black \\\\\n",
       "\\end{tabular}\n"
      ],
      "text/markdown": [
       "\n",
       "A data.frame: 7 × 6\n",
       "\n",
       "| Sex &lt;chr&gt; | Age &lt;dbl&gt; | Name &lt;chr&gt; | Birth_Year &lt;dbl&gt; | Interests &lt;chr&gt; | Favorite_Color &lt;chr&gt; |\n",
       "|---|---|---|---|---|---|\n",
       "| F | 15 | Jane  | 2007 | Hiking   | Blue   |\n",
       "| F | 35 | Ada   | 1987 | Travel   | Purple |\n",
       "| M | 23 | Mark  | 1999 | Sports   | Green  |\n",
       "| M | 32 | John  | 1990 | Books    | White  |\n",
       "| M | 32 | John  | 1990 | Books    | White  |\n",
       "| M | 19 | Peter | 2003 | Swimming | Empty  |\n",
       "| F | 28 | Hope  | 1994 | Movies   | Black  |\n",
       "\n"
      ],
      "text/plain": [
       "  Sex Age Name  Birth_Year Interests Favorite_Color\n",
       "1 F   15  Jane  2007       Hiking    Blue          \n",
       "2 F   35  Ada   1987       Travel    Purple        \n",
       "3 M   23  Mark  1999       Sports    Green         \n",
       "4 M   32  John  1990       Books     White         \n",
       "5 M   32  John  1990       Books     White         \n",
       "6 M   19  Peter 2003       Swimming  Empty         \n",
       "7 F   28  Hope  1994       Movies    Black         "
      ]
     },
     "metadata": {},
     "output_type": "display_data"
    }
   ],
   "source": [
    "df[is.na(df)]<- \"Empty\"\n",
    "df"
   ]
  }
 ],
 "metadata": {
  "kernelspec": {
   "display_name": "R",
   "language": "R",
   "name": "ir"
  },
  "language_info": {
   "codemirror_mode": "r",
   "file_extension": ".r",
   "mimetype": "text/x-r-source",
   "name": "R",
   "pygments_lexer": "r",
   "version": "4.0.5"
  }
 },
 "nbformat": 4,
 "nbformat_minor": 5
}
